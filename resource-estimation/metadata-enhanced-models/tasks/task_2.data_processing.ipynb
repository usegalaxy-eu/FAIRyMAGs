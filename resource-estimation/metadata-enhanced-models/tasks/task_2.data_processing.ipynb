{
 "cells": [
  {
   "cell_type": "markdown",
   "id": "c50dd17a",
   "metadata": {},
   "source": [
    "# Data processing"
   ]
  },
  {
   "cell_type": "markdown",
   "id": "c634c902",
   "metadata": {},
   "source": [
    "## Objectives\n",
    "\n",
    "Main: To collect and preprocess datasets that are used for training and evaluation in [kmer based models](Kmer-Memory-Predict/kmer_stats_vs_peak_memory.ipynb) with identified metadata features.\n",
    "\n",
    "1. Identify and download datasets from public repositories (e.g., ENA, SRA).\n",
    "2. Build a lightweight API to process FASTQ files and genrate the following stats:\n",
    "    - File size\n",
    "    - Number of reads\n",
    "    - Read length stats (e.g., median, N50, L50)\n",
    "    - GC content\n",
    "3. Implement methods to trasform to ML-friendly variables\n",
    "4. Store processed data in a structured format (e.g., CSV, JSON) for easy access and analysis."
   ]
  },
  {
   "cell_type": "markdown",
   "id": "da17fd58",
   "metadata": {},
   "source": [
    "## Objective 1: Identify and download datasets from public repositories (e.g., ENA, SRA)."
   ]
  }
 ],
 "metadata": {
  "kernelspec": {
   "display_name": "base",
   "language": "python",
   "name": "python3"
  },
  "language_info": {
   "codemirror_mode": {
    "name": "ipython",
    "version": 3
   },
   "file_extension": ".py",
   "mimetype": "text/x-python",
   "name": "python",
   "nbconvert_exporter": "python",
   "pygments_lexer": "ipython3",
   "version": "3.8.12"
  }
 },
 "nbformat": 4,
 "nbformat_minor": 5
}
